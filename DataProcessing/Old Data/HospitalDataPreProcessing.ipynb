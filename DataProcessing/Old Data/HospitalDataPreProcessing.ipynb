{
 "cells": [
  {
   "cell_type": "markdown",
   "metadata": {},
   "source": []
  },
  {
   "cell_type": "code",
   "execution_count": 31,
   "metadata": {
    "jupyter": {
     "is_executing": true
    }
   },
   "outputs": [],
   "source": [
    "#Install packages for the project\n",
    "#!pip install pandas numpy seaborn matplotlib scikit-learn scipy networkx\n"
   ]
  },
  {
   "cell_type": "markdown",
   "metadata": {},
   "source": [
    "## Importing required modules"
   ]
  },
  {
   "cell_type": "code",
   "execution_count": 32,
   "metadata": {
    "jupyter": {
     "is_executing": true
    }
   },
   "outputs": [],
   "source": [
    "# Import the required building blocks\n",
    "import pandas as pd\n",
    "import numpy as np\n",
    "import seaborn as sns\n",
    "from sklearn.preprocessing import LabelEncoder, MinMaxScaler\n",
    "import matplotlib.pyplot as plt\n"
   ]
  },
  {
   "cell_type": "markdown",
   "metadata": {},
   "source": [
    "## Read the source file"
   ]
  },
  {
   "cell_type": "code",
   "execution_count": 33,
   "metadata": {},
   "outputs": [
    {
     "name": "stdout",
     "output_type": "stream",
     "text": [
      "   Patient_ID  Age  Gender      Condition                 Procedure   Cost  \\\n",
      "0           1   45  Female  Heart Disease               Angioplasty  15000   \n",
      "1           2   60    Male       Diabetes           Insulin Therapy   2000   \n",
      "2           3   32  Female  Fractured Arm          X-Ray and Splint    500   \n",
      "3           4   75    Male         Stroke    CT Scan and Medication  10000   \n",
      "4           5   50  Female         Cancer  Surgery and Chemotherapy  25000   \n",
      "\n",
      "   Length_of_Stay Readmission    Outcome  Satisfaction  \n",
      "0               5          No  Recovered             4  \n",
      "1               3         Yes     Stable             3  \n",
      "2               1          No  Recovered             5  \n",
      "3               7         Yes     Stable             2  \n",
      "4              10          No  Recovered             4  \n"
     ]
    }
   ],
   "source": [
    "#reading the file\n",
    "\n",
    "df = pd.read_csv('hospital_data_analysis.csv')\n",
    "print(df.head())"
   ]
  },
  {
   "cell_type": "markdown",
   "metadata": {},
   "source": [
    "## Data Profiling"
   ]
  },
  {
   "cell_type": "code",
   "execution_count": 34,
   "metadata": {},
   "outputs": [
    {
     "name": "stdout",
     "output_type": "stream",
     "text": [
      "Dataset Information:\n",
      "<class 'pandas.core.frame.DataFrame'>\n",
      "RangeIndex: 984 entries, 0 to 983\n",
      "Data columns (total 10 columns):\n",
      " #   Column          Non-Null Count  Dtype \n",
      "---  ------          --------------  ----- \n",
      " 0   Patient_ID      984 non-null    int64 \n",
      " 1   Age             984 non-null    int64 \n",
      " 2   Gender          984 non-null    object\n",
      " 3   Condition       984 non-null    object\n",
      " 4   Procedure       984 non-null    object\n",
      " 5   Cost            984 non-null    int64 \n",
      " 6   Length_of_Stay  984 non-null    int64 \n",
      " 7   Readmission     984 non-null    object\n",
      " 8   Outcome         984 non-null    object\n",
      " 9   Satisfaction    984 non-null    int64 \n",
      "dtypes: int64(5), object(5)\n",
      "memory usage: 77.0+ KB\n",
      "\n",
      "Summary Statistics:\n",
      "        Patient_ID         Age          Cost  Length_of_Stay  Satisfaction\n",
      "count   984.000000  984.000000    984.000000      984.000000    984.000000\n",
      "mean    500.329268   53.754065   8367.479675       37.663618      3.598577\n",
      "std     288.979531   14.941135   7761.990976       19.595805      0.883002\n",
      "min       1.000000   25.000000    100.000000        1.000000      2.000000\n",
      "25%     250.750000   45.000000   1000.000000       21.000000      3.000000\n",
      "50%     500.500000   55.000000   6000.000000       38.000000      4.000000\n",
      "75%     750.250000   65.000000  15000.000000       54.250000      4.000000\n",
      "max    1000.000000   78.000000  25000.000000       76.000000      5.000000\n"
     ]
    }
   ],
   "source": [
    "# Get an overview of the dataset\n",
    "print(\"Dataset Information:\")\n",
    "df.info()\n",
    "\n",
    "# Display summary statistics\n",
    "print(\"\\nSummary Statistics:\")\n",
    "print(df.describe())\n"
   ]
  },
  {
   "cell_type": "code",
   "execution_count": 35,
   "metadata": {},
   "outputs": [
    {
     "name": "stdout",
     "output_type": "stream",
     "text": [
      "\n",
      "First Few Rows:\n",
      "   Patient_ID  Age  Gender      Condition                 Procedure   Cost  \\\n",
      "0           1   45  Female  Heart Disease               Angioplasty  15000   \n",
      "1           2   60    Male       Diabetes           Insulin Therapy   2000   \n",
      "2           3   32  Female  Fractured Arm          X-Ray and Splint    500   \n",
      "3           4   75    Male         Stroke    CT Scan and Medication  10000   \n",
      "4           5   50  Female         Cancer  Surgery and Chemotherapy  25000   \n",
      "\n",
      "   Length_of_Stay Readmission    Outcome  Satisfaction  \n",
      "0               5          No  Recovered             4  \n",
      "1               3         Yes     Stable             3  \n",
      "2               1          No  Recovered             5  \n",
      "3               7         Yes     Stable             2  \n",
      "4              10          No  Recovered             4  \n"
     ]
    }
   ],
   "source": [
    "# Display first few rows\n",
    "print(\"\\nFirst Few Rows:\")\n",
    "print(df.head())"
   ]
  },
  {
   "cell_type": "code",
   "execution_count": 36,
   "metadata": {},
   "outputs": [
    {
     "name": "stdout",
     "output_type": "stream",
     "text": [
      "\n",
      "Unique Conditions:\n",
      "['Heart Disease' 'Diabetes' 'Fractured Arm' 'Stroke' 'Cancer'\n",
      " 'Hypertension' 'Appendicitis' 'Fractured Leg' 'Heart Attack'\n",
      " 'Allergic Reaction' 'Respiratory Infection' 'Prostate Cancer'\n",
      " 'Childbirth' 'Kidney Stones' 'Osteoarthritis']\n",
      "\n",
      "Unique Procedures:\n",
      "['Angioplasty' 'Insulin Therapy' 'X-Ray and Splint'\n",
      " 'CT Scan and Medication' 'Surgery and Chemotherapy'\n",
      " 'Medication and Counseling' 'Appendectomy' 'Cast and Physical Therapy'\n",
      " 'Cardiac Catheterization' 'Epinephrine Injection' 'Antibiotics and Rest'\n",
      " 'Radiation Therapy' 'Delivery and Postnatal Care' 'Lithotripsy'\n",
      " 'Physical Therapy and Pain Management']\n"
     ]
    }
   ],
   "source": [
    "# Check unique values in Condition and Procedure\n",
    "print(\"\\nUnique Conditions:\")\n",
    "print(df[\"Condition\"].unique())\n",
    "\n",
    "print(\"\\nUnique Procedures:\")\n",
    "print(df[\"Procedure\"].unique())"
   ]
  },
  {
   "cell_type": "code",
   "execution_count": null,
   "metadata": {},
   "outputs": [
    {
     "name": "stdout",
     "output_type": "stream",
     "text": [
      "\n",
      "Filtered Dataset:\n",
      "     Patient_ID  Age  Gender        Condition               Procedure   Cost  \\\n",
      "2             3   32  Female    Fractured Arm        X-Ray and Splint    500   \n",
      "3             4   75    Male           Stroke  CT Scan and Medication  10000   \n",
      "11           12   65    Male  Prostate Cancer       Radiation Therapy  20000   \n",
      "17           18   35  Female    Fractured Arm        X-Ray and Splint    500   \n",
      "18           19   78    Male           Stroke  CT Scan and Medication  10000   \n",
      "..          ...  ...     ...              ...                     ...    ...   \n",
      "961         978   35  Female    Fractured Arm        X-Ray and Splint    500   \n",
      "962         979   78    Male           Stroke  CT Scan and Medication  10000   \n",
      "970         987   67    Male  Prostate Cancer       Radiation Therapy  20000   \n",
      "976         993   30  Female    Fractured Arm        X-Ray and Splint    500   \n",
      "977         994   70    Male           Stroke  CT Scan and Medication  10000   \n",
      "\n",
      "     Length_of_Stay Readmission    Outcome  Satisfaction  \n",
      "2                 1          No  Recovered             5  \n",
      "3                 7         Yes     Stable             2  \n",
      "11                9          No  Recovered             3  \n",
      "17                2         Yes  Recovered             5  \n",
      "18                8          No     Stable             2  \n",
      "..              ...         ...        ...           ...  \n",
      "961              66         Yes  Recovered             5  \n",
      "962              73          No     Stable             2  \n",
      "970              74          No  Recovered             3  \n",
      "976              67          No  Recovered             5  \n",
      "977              74         Yes     Stable             2  \n",
      "\n",
      "[197 rows x 10 columns]\n"
     ]
    }
   ],
   "source": [
    "# Define relevant procedures related to Medical Imaging & Radiotherapy\n",
    "relevant_procedures = [\"X-Ray and Splint\", \"CT Scan and Medication\", \"MRI\", \"Ultrasound\", \"Radiation Therapy\",\"'Cardiac Catheterization'\"]\n",
    "\n",
    "# Filter dataset based on relevant procedures\n",
    "filtered_df = df[df[\"Procedure\"].isin(relevant_procedures)]\n",
    "\n",
    "# Display the filtered dataset\n",
    "print(\"\\nFiltered Dataset:\")\n",
    "print(filtered_df)"
   ]
  },
  {
   "cell_type": "code",
   "execution_count": 38,
   "metadata": {},
   "outputs": [],
   "source": [
    "# Save the filtered dataset for further processing\n",
    "filtered_df.to_csv(\"filtered_data.csv\", index=False)"
   ]
  },
  {
   "cell_type": "markdown",
   "metadata": {},
   "source": [
    "## Data Cleaning"
   ]
  },
  {
   "cell_type": "code",
   "execution_count": 39,
   "metadata": {},
   "outputs": [
    {
     "name": "stdout",
     "output_type": "stream",
     "text": [
      "Total records after removing duplicates: 197\n"
     ]
    }
   ],
   "source": [
    "# Remove duplicate rows\n",
    "filtered_df = filtered_df.drop_duplicates()\n",
    "\n",
    "# Check if duplicates are removed\n",
    "print(f\"Total records after removing duplicates: {filtered_df.shape[0]}\")"
   ]
  },
  {
   "cell_type": "code",
   "execution_count": 40,
   "metadata": {},
   "outputs": [
    {
     "name": "stdout",
     "output_type": "stream",
     "text": [
      "\n",
      "Missing Values Before Cleaning:\n",
      "Patient_ID        0\n",
      "Age               0\n",
      "Gender            0\n",
      "Condition         0\n",
      "Procedure         0\n",
      "Cost              0\n",
      "Length_of_Stay    0\n",
      "Readmission       0\n",
      "Outcome           0\n",
      "Satisfaction      0\n",
      "dtype: int64\n"
     ]
    }
   ],
   "source": [
    "# Since Procedure, Condition, and Outcome are key fields, we need to handle missing values:\n",
    "# Check missing values in each column\n",
    "print(\"\\nMissing Values Before Cleaning:\")\n",
    "print(filtered_df.isnull().sum())"
   ]
  },
  {
   "cell_type": "code",
   "execution_count": null,
   "metadata": {},
   "outputs": [
    {
     "name": "stdout",
     "output_type": "stream",
     "text": [
      "\n",
      "Unique Conditions:\n",
      "['Heart Disease' 'Diabetes' 'Fractured Arm' 'Stroke' 'Cancer'\n",
      " 'Hypertension' 'Appendicitis' 'Fractured Leg' 'Heart Attack'\n",
      " 'Allergic Reaction' 'Respiratory Infection' 'Prostate Cancer'\n",
      " 'Childbirth' 'Kidney Stones' 'Osteoarthritis']\n"
     ]
    }
   ],
   "source": [
    "import re\n",
    "\n",
    "# Standardizing text data to ensure consistency\n",
    "filtered_df[\"Procedure\"] = filtered_df[\"Procedure\"].str.strip().str.title()\n",
    "filtered_df[\"Condition\"] = filtered_df[\"Condition\"].str.strip().str.title()\n",
    "filtered_df[\"Outcome\"] = filtered_df[\"Outcome\"].str.strip().str.title()\n",
    "\n",
    "# Replace incorrect/misclassified values if needed\n",
    "corrections = {\n",
    "    \"Ct Scan And Medication\": \"CT Scan and Medication\", \n",
    "    \"Xray And Splint\": \"X-Ray and Splint\"\n",
    "}\n",
    "filtered_df[\"Procedure\"] = filtered_df[\"Procedure\"].replace(corrections)\n",
    "\n",
    "# Function to split procedures into a list\n",
    "def split_procedure(procedure):\n",
    "    return [proc.strip() for proc in re.split(r\"\\s*and\\s*|\\s*,\\s*\", procedure, flags=re.IGNORECASE) if proc.strip()]\n",
    "\n",
    "# Apply function to convert Procedure column into lists\n",
    "filtered_df[\"Procedure\"] = filtered_df[\"Procedure\"].apply(split_procedure)\n",
    "\n",
    "# Display updated DataFrame\n",
    "filtered_df.head()\n",
    "\n"
   ]
  },
  {
   "cell_type": "code",
   "execution_count": 21,
   "metadata": {},
   "outputs": [
    {
     "name": "stdout",
     "output_type": "stream",
     "text": [
      "\n",
      "Data Cleaning Complete. Cleaned data saved as 'cleaned_data.csv'.\n"
     ]
    }
   ],
   "source": [
    "# Save the cleaned dataset\n",
    "filtered_df.to_csv(\"cleaned_data.csv\", index=False)\n",
    "\n",
    "print(\"\\nData Cleaning Complete. Cleaned data saved as 'cleaned_data.csv'.\")"
   ]
  },
  {
   "cell_type": "markdown",
   "metadata": {},
   "source": [
    "## Data Reduction\n"
   ]
  },
  {
   "cell_type": "code",
   "execution_count": 22,
   "metadata": {},
   "outputs": [],
   "source": [
    "# Drop cost-related columns\n",
    "filtered_df = filtered_df.drop(columns=[\"Cost\"], errors=\"ignore\")\n"
   ]
  },
  {
   "cell_type": "code",
   "execution_count": 23,
   "metadata": {},
   "outputs": [],
   "source": [
    "# Define relevant radiology and radiotherapy procedures\n",
    "radiology_procedures = [\"X-Ray\", \"CT Scan\", \"MRI\", \"Ultrasound\"]\n",
    "radiotherapy_procedures = [\"Radiation Therapy\"]\n",
    "\n",
    "# Function to check if any procedure in the list is related to radiology/radiotherapy\n",
    "def is_relevant_procedure(procedure_list):\n",
    "    return any(proc in radiology_procedures or proc in radiotherapy_procedures for proc in procedure_list)\n",
    "\n",
    "# Filter dataset to keep only relevant procedures\n",
    "filtered_df = filtered_df[filtered_df[\"Procedure\"].apply(is_relevant_procedure)]"
   ]
  },
  {
   "cell_type": "code",
   "execution_count": null,
   "metadata": {},
   "outputs": [
    {
     "name": "stdout",
     "output_type": "stream",
     "text": [
      "Dataset after data reduction:\n",
      "    Patient_ID  Age  Gender        Condition              Procedure   Cost  \\\n",
      "2            3   32  Female    Fractured Arm        [X-Ray, Splint]    500   \n",
      "3            4   75    Male           Stroke  [CT Scan, Medication]  10000   \n",
      "11          12   65    Male  Prostate Cancer    [Radiation Therapy]  20000   \n",
      "17          18   35  Female    Fractured Arm        [X-Ray, Splint]    500   \n",
      "18          19   78    Male           Stroke  [CT Scan, Medication]  10000   \n",
      "\n",
      "    Length_of_Stay Readmission    Outcome  Satisfaction  \n",
      "2                1          No  Recovered             5  \n",
      "3                7         Yes     Stable             2  \n",
      "11               9          No  Recovered             3  \n",
      "17               2         Yes  Recovered             5  \n",
      "18               8          No     Stable             2  \n",
      "\n",
      "Unique Conditions:\n",
      "['Fractured Arm' 'Stroke' 'Prostate Cancer']\n"
     ]
    }
   ],
   "source": [
    "# Display reduced dataset\n",
    "print(\"Dataset after data reduction:\")\n",
    "print(filtered_df.head())\n",
    "\n",
    "# Save the reduced dataset\n",
    "filtered_df.to_csv(\"reduced_data.csv\", index=False)\n"
   ]
  },
  {
   "cell_type": "markdown",
   "metadata": {},
   "source": [
    "## Data Transformation"
   ]
  },
  {
   "cell_type": "code",
   "execution_count": 25,
   "metadata": {},
   "outputs": [],
   "source": [
    "# Convert 'Condition' and 'Outcome' into categorical values\n",
    "filtered_df[\"Condition\"] = filtered_df[\"Condition\"].astype(\"category\")\n",
    "filtered_df[\"Outcome\"] = filtered_df[\"Outcome\"].astype(\"category\")"
   ]
  },
  {
   "cell_type": "code",
   "execution_count": 26,
   "metadata": {},
   "outputs": [],
   "source": [
    "for proc in radiology_procedures:\n",
    "    filtered_df[f\"Procedure_{proc}\"] = filtered_df[\"Procedure\"].apply(lambda x: 1 if proc in x else 0)\n"
   ]
  },
  {
   "cell_type": "code",
   "execution_count": null,
   "metadata": {},
   "outputs": [],
   "source": [
    "# Normalize numerical values (Age, Length of Stay)\n",
    "# scaler = MinMaxScaler()\n",
    "# filtered_df[[\"Age\", \"Length_of_Stay\"]] = scaler.fit_transform(filtered_df[[\"Age\", \"Length_of_Stay\"]])\n"
   ]
  },
  {
   "cell_type": "code",
   "execution_count": 27,
   "metadata": {},
   "outputs": [
    {
     "name": "stdout",
     "output_type": "stream",
     "text": [
      "Dataset after transformation:\n",
      "    Patient_ID  Age  Gender        Condition              Procedure  \\\n",
      "2            3   32  Female    Fractured Arm        [X-Ray, Splint]   \n",
      "3            4   75    Male           Stroke  [CT Scan, Medication]   \n",
      "11          12   65    Male  Prostate Cancer    [Radiation Therapy]   \n",
      "17          18   35  Female    Fractured Arm        [X-Ray, Splint]   \n",
      "18          19   78    Male           Stroke  [CT Scan, Medication]   \n",
      "\n",
      "    Length_of_Stay Readmission    Outcome  Satisfaction  Procedure_X-Ray  \\\n",
      "2                1          No  Recovered             5                1   \n",
      "3                7         Yes     Stable             2                0   \n",
      "11               9          No  Recovered             3                0   \n",
      "17               2         Yes  Recovered             5                1   \n",
      "18               8          No     Stable             2                0   \n",
      "\n",
      "    Procedure_CT Scan  Procedure_MRI  Procedure_Ultrasound  \n",
      "2                   0              0                     0  \n",
      "3                   1              0                     0  \n",
      "11                  0              0                     0  \n",
      "17                  0              0                     0  \n",
      "18                  1              0                     0  \n"
     ]
    }
   ],
   "source": [
    "# Display transformed dataset\n",
    "print(\"Dataset after transformation:\")\n",
    "print(filtered_df.head())"
   ]
  },
  {
   "cell_type": "markdown",
   "metadata": {},
   "source": [
    "## Data Enrichment\n"
   ]
  },
  {
   "cell_type": "code",
   "execution_count": 55,
   "metadata": {},
   "outputs": [
    {
     "name": "stdout",
     "output_type": "stream",
     "text": [
      "    Patient_ID  Age  Gender        Condition              Procedure   Cost  \\\n",
      "2            3   32  Female    Fractured Arm        [X-Ray, Splint]    500   \n",
      "3            4   75    Male           Stroke  [CT Scan, Medication]  10000   \n",
      "11          12   65    Male  Prostate Cancer    [Radiation Therapy]  20000   \n",
      "17          18   35  Female    Fractured Arm        [X-Ray, Splint]    500   \n",
      "18          19   78    Male           Stroke  [CT Scan, Medication]  10000   \n",
      "\n",
      "    Length_of_Stay Readmission    Outcome  Satisfaction  Risk_Score  \n",
      "2                1          No  Recovered             5           2  \n",
      "3                7         Yes     Stable             2           8  \n",
      "11               9          No  Recovered             3           4  \n",
      "17               2         Yes  Recovered             5           4  \n",
      "18               8          No     Stable             2           6  \n"
     ]
    }
   ],
   "source": [
    "# Define condition severity levels and enrich data\n",
    "def enrich_data(filtered_df):\n",
    "    condition_severity = {\n",
    "        \"Fractured Arm\": 1,\n",
    "        \"Stroke\": 3,\n",
    "        \"Prostate Cancer\": 2\n",
    "    }\n",
    "\n",
    "    # Calculate risk score \n",
    "    def calculate_risk(row):\n",
    "        if row['Age'] < 50:\n",
    "            age_factor = 1\n",
    "        elif row['Age'] < 70:\n",
    "            age_factor = 2\n",
    "        else:\n",
    "            age_factor = 3\n",
    "        \n",
    "        if row['Readmission'] == 'Yes':\n",
    "            readmission_factor = 2\n",
    "        else:\n",
    "            readmission_factor = 0\n",
    "        \n",
    "        condition_factor = condition_severity.get(row['Condition'], 1)\n",
    "        \n",
    "        risk_score = age_factor + readmission_factor + condition_factor\n",
    "        return risk_score\n",
    "\n",
    "    # Apply the risk score calculation\n",
    "    filtered_df['Risk_Score'] = filtered_df.apply(calculate_risk, axis=1)\n",
    "    return filtered_df\n",
    "\n",
    "\n",
    "filtered_df = enrich_data(filtered_df)\n",
    "\n",
    "# Display the updated DataFrame\n",
    "print(filtered_df.head())\n",
    "    "
   ]
  },
  {
   "cell_type": "markdown",
   "metadata": {},
   "source": [
    "# Data Validation"
   ]
  },
  {
   "cell_type": "code",
   "execution_count": null,
   "metadata": {},
   "outputs": [
    {
     "name": "stdout",
     "output_type": "stream",
     "text": [
      "Unique procedures in final dataset: []\n"
     ]
    }
   ],
   "source": [
    "#Ensure only relevant radiology-related records remain\n",
    "print(\"Unique procedures in final dataset:\", filtered_df[\"Procedure\"].unique())"
   ]
  },
  {
   "cell_type": "code",
   "execution_count": 22,
   "metadata": {},
   "outputs": [
    {
     "name": "stdout",
     "output_type": "stream",
     "text": [
      "Missing values after cleaning:\n",
      " Patient_ID              0\n",
      "Age                     0\n",
      "Gender                  0\n",
      "Condition               0\n",
      "Procedure               0\n",
      "Length_of_Stay          0\n",
      "Readmission             0\n",
      "Outcome                 0\n",
      "Satisfaction            0\n",
      "Procedure_X-Ray         0\n",
      "Procedure_CT Scan       0\n",
      "Procedure_MRI           0\n",
      "Procedure_Ultrasound    0\n",
      "dtype: int64\n"
     ]
    }
   ],
   "source": [
    "# Check for remaining missing values\n",
    "print(\"Missing values after cleaning:\\n\", filtered_df.isnull().sum())"
   ]
  },
  {
   "cell_type": "code",
   "execution_count": 23,
   "metadata": {},
   "outputs": [
    {
     "name": "stdout",
     "output_type": "stream",
     "text": [
      "Data types after transformation:\n",
      " Patient_ID                 int64\n",
      "Age                      float64\n",
      "Gender                    object\n",
      "Condition               category\n",
      "Procedure                 object\n",
      "Length_of_Stay           float64\n",
      "Readmission               object\n",
      "Outcome                 category\n",
      "Satisfaction               int64\n",
      "Procedure_X-Ray            int64\n",
      "Procedure_CT Scan          int64\n",
      "Procedure_MRI              int64\n",
      "Procedure_Ultrasound       int64\n",
      "dtype: object\n"
     ]
    }
   ],
   "source": [
    "#Confirm categorical encoding\n",
    "print(\"Data types after transformation:\\n\", filtered_df.dtypes)"
   ]
  },
  {
   "cell_type": "code",
   "execution_count": 28,
   "metadata": {},
   "outputs": [
    {
     "data": {
      "text/html": [
       "<div>\n",
       "<style scoped>\n",
       "    .dataframe tbody tr th:only-of-type {\n",
       "        vertical-align: middle;\n",
       "    }\n",
       "\n",
       "    .dataframe tbody tr th {\n",
       "        vertical-align: top;\n",
       "    }\n",
       "\n",
       "    .dataframe thead th {\n",
       "        text-align: right;\n",
       "    }\n",
       "</style>\n",
       "<table border=\"1\" class=\"dataframe\">\n",
       "  <thead>\n",
       "    <tr style=\"text-align: right;\">\n",
       "      <th></th>\n",
       "      <th>Patient_ID</th>\n",
       "      <th>Age</th>\n",
       "      <th>Gender</th>\n",
       "      <th>Condition</th>\n",
       "      <th>Procedure</th>\n",
       "      <th>Length_of_Stay</th>\n",
       "      <th>Readmission</th>\n",
       "      <th>Outcome</th>\n",
       "      <th>Satisfaction</th>\n",
       "      <th>Procedure_X-Ray</th>\n",
       "      <th>Procedure_CT Scan</th>\n",
       "      <th>Procedure_MRI</th>\n",
       "      <th>Procedure_Ultrasound</th>\n",
       "    </tr>\n",
       "  </thead>\n",
       "  <tbody>\n",
       "    <tr>\n",
       "      <th>2</th>\n",
       "      <td>3</td>\n",
       "      <td>32</td>\n",
       "      <td>Female</td>\n",
       "      <td>Fractured Arm</td>\n",
       "      <td>[X-Ray, Splint]</td>\n",
       "      <td>1</td>\n",
       "      <td>No</td>\n",
       "      <td>Recovered</td>\n",
       "      <td>5</td>\n",
       "      <td>1</td>\n",
       "      <td>0</td>\n",
       "      <td>0</td>\n",
       "      <td>0</td>\n",
       "    </tr>\n",
       "    <tr>\n",
       "      <th>3</th>\n",
       "      <td>4</td>\n",
       "      <td>75</td>\n",
       "      <td>Male</td>\n",
       "      <td>Stroke</td>\n",
       "      <td>[CT Scan, Medication]</td>\n",
       "      <td>7</td>\n",
       "      <td>Yes</td>\n",
       "      <td>Stable</td>\n",
       "      <td>2</td>\n",
       "      <td>0</td>\n",
       "      <td>1</td>\n",
       "      <td>0</td>\n",
       "      <td>0</td>\n",
       "    </tr>\n",
       "    <tr>\n",
       "      <th>11</th>\n",
       "      <td>12</td>\n",
       "      <td>65</td>\n",
       "      <td>Male</td>\n",
       "      <td>Prostate Cancer</td>\n",
       "      <td>[Radiation Therapy]</td>\n",
       "      <td>9</td>\n",
       "      <td>No</td>\n",
       "      <td>Recovered</td>\n",
       "      <td>3</td>\n",
       "      <td>0</td>\n",
       "      <td>0</td>\n",
       "      <td>0</td>\n",
       "      <td>0</td>\n",
       "    </tr>\n",
       "    <tr>\n",
       "      <th>17</th>\n",
       "      <td>18</td>\n",
       "      <td>35</td>\n",
       "      <td>Female</td>\n",
       "      <td>Fractured Arm</td>\n",
       "      <td>[X-Ray, Splint]</td>\n",
       "      <td>2</td>\n",
       "      <td>Yes</td>\n",
       "      <td>Recovered</td>\n",
       "      <td>5</td>\n",
       "      <td>1</td>\n",
       "      <td>0</td>\n",
       "      <td>0</td>\n",
       "      <td>0</td>\n",
       "    </tr>\n",
       "    <tr>\n",
       "      <th>18</th>\n",
       "      <td>19</td>\n",
       "      <td>78</td>\n",
       "      <td>Male</td>\n",
       "      <td>Stroke</td>\n",
       "      <td>[CT Scan, Medication]</td>\n",
       "      <td>8</td>\n",
       "      <td>No</td>\n",
       "      <td>Stable</td>\n",
       "      <td>2</td>\n",
       "      <td>0</td>\n",
       "      <td>1</td>\n",
       "      <td>0</td>\n",
       "      <td>0</td>\n",
       "    </tr>\n",
       "  </tbody>\n",
       "</table>\n",
       "</div>"
      ],
      "text/plain": [
       "    Patient_ID  Age  Gender        Condition              Procedure  \\\n",
       "2            3   32  Female    Fractured Arm        [X-Ray, Splint]   \n",
       "3            4   75    Male           Stroke  [CT Scan, Medication]   \n",
       "11          12   65    Male  Prostate Cancer    [Radiation Therapy]   \n",
       "17          18   35  Female    Fractured Arm        [X-Ray, Splint]   \n",
       "18          19   78    Male           Stroke  [CT Scan, Medication]   \n",
       "\n",
       "    Length_of_Stay Readmission    Outcome  Satisfaction  Procedure_X-Ray  \\\n",
       "2                1          No  Recovered             5                1   \n",
       "3                7         Yes     Stable             2                0   \n",
       "11               9          No  Recovered             3                0   \n",
       "17               2         Yes  Recovered             5                1   \n",
       "18               8          No     Stable             2                0   \n",
       "\n",
       "    Procedure_CT Scan  Procedure_MRI  Procedure_Ultrasound  \n",
       "2                   0              0                     0  \n",
       "3                   1              0                     0  \n",
       "11                  0              0                     0  \n",
       "17                  0              0                     0  \n",
       "18                  1              0                     0  "
      ]
     },
     "metadata": {},
     "output_type": "display_data"
    }
   ],
   "source": [
    "#Preview the final dataset\n",
    "display(filtered_df.head())\n"
   ]
  },
  {
   "cell_type": "code",
   "execution_count": null,
   "metadata": {},
   "outputs": [],
   "source": [
    "# Save the final validated dataset\n",
    "filtered_df.to_csv(\"cleaned_hospital_data.csv\", index=False)"
   ]
  }
 ],
 "metadata": {
  "kernelspec": {
   "display_name": "base",
   "language": "python",
   "name": "python3"
  },
  "language_info": {
   "codemirror_mode": {
    "name": "ipython",
    "version": 3
   },
   "file_extension": ".py",
   "mimetype": "text/x-python",
   "name": "python",
   "nbconvert_exporter": "python",
   "pygments_lexer": "ipython3",
   "version": "3.12.7"
  }
 },
 "nbformat": 4,
 "nbformat_minor": 4
}
