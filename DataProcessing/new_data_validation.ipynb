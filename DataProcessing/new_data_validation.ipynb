{
 "cells": [
  {
   "cell_type": "code",
   "execution_count": null,
   "metadata": {},
   "outputs": [],
   "source": [
    "import pandas as pd\n",
    "\n",
    "df = pd.read_csv(\"new_processed_data.csv\")\n"
   ]
  },
  {
   "cell_type": "code",
   "execution_count": null,
   "metadata": {},
   "outputs": [],
   "source": [
    "#Replace MRI-Liver with CT-Liver and set contrast to \"Yes\"\n",
    "df[\"Procedure\"] = df[\"Procedure\"].replace(\"MRI-Liver\", \"CT-Liver\")\n",
    "df.loc[df[\"Procedure\"] == \"CT-Liver\", \"Contrast\"] = True"
   ]
  },
  {
   "cell_type": "code",
   "execution_count": null,
   "metadata": {},
   "outputs": [],
   "source": [
    "\n",
    "# Remove CT-Brain Helical and redistribute to valid alternatives\n",
    "reassign_procedures = [\"CT-Thorax\", \"X-Ray Thorax\", \"CT-Liver\", \"X-Ray LWK\"]\n",
    "ct_brain_helical_idx = df[df[\"Procedure\"] == \"CT-Brain Helical\"].index\n",
    "valid_pool = df[df[\"Procedure\"].isin(reassign_procedures)]\n",
    "\n",
    "for i, idx in enumerate(ct_brain_helical_idx):\n",
    "    sample_row = valid_pool.sample(1, random_state=i).iloc[0]\n",
    "    df.loc[idx, \"Procedure\"] = sample_row[\"Procedure\"]\n",
    "    df.loc[idx, \"Condition\"] = sample_row[\"Condition\"]\n",
    "    df.loc[idx, \"Gender\"] = sample_row[\"Gender\"]\n",
    "    df.loc[idx, \"Age\"] = sample_row[\"Age\"]\n",
    "    df.loc[idx, \"Contrast\"] = sample_row[\"Contrast\"]\n"
   ]
  },
  {
   "cell_type": "code",
   "execution_count": null,
   "metadata": {},
   "outputs": [],
   "source": [
    "# Remove less common conditions\n",
    "conditions_to_remove = [\"Uterine Fibroids\", \"Foot Injury\",\"Prostate Check\"]\n",
    "total_removed = 0\n",
    "removed_data = []\n",
    "\n",
    "for cond in conditions_to_remove:\n",
    "    to_remove = df[df[\"Condition\"] == cond].sample(min(3, df[df[\"Condition\"] == cond].shape[0]), random_state=42)\n",
    "    removed_data.append(to_remove)\n",
    "    df.drop(to_remove.index, inplace=True)\n",
    "    total_removed += len(to_remove)"
   ]
  },
  {
   "cell_type": "code",
   "execution_count": null,
   "metadata": {},
   "outputs": [],
   "source": [
    "#Redistribute removed patients to existing common conditions\n",
    "redistribute_conditions = [\"Metastasis\", \"Thoracic Tumor\", \"Thoracic Injury\", \"ACL Tear\", \"CT-Liver Tear\"]\n",
    "available_redistribution = df[df[\"Condition\"].isin(redistribute_conditions)]\n",
    "\n",
    "replacements = available_redistribution.sample(n=total_removed, random_state=1)\n",
    "df = pd.concat([df, replacements], ignore_index=True)\n",
    "\n",
    "# Adjust MRI-Uterus contrast to ~50/50 and drop a few records\n",
    "mri_uterus_idx = df[df[\"Procedure\"] == \"MRI-Uterus\"].index\n",
    "if len(mri_uterus_idx) >= 2:\n",
    "    df.drop(mri_uterus_idx[:2], inplace=True)\n",
    "mri_uterus_idx = df[df[\"Procedure\"] == \"MRI-Uterus\"].index\n",
    "half = len(mri_uterus_idx) // 2\n",
    "df.loc[mri_uterus_idx[:half], \"Contrast\"] = True\n",
    "df.loc[mri_uterus_idx[half:], \"Contrast\"] = False"
   ]
  },
  {
   "cell_type": "code",
   "execution_count": null,
   "metadata": {},
   "outputs": [],
   "source": [
    "# Reassign nonsensical combinations using existing valid pairings\n",
    "valid_pairs = df.groupby([\"Procedure\", \"Gender\"])[[\"Condition\", \"Age\"]].first().reset_index()\n",
    "valid_lookup = valid_pairs.set_index([\"Procedure\", \"Gender\"]).T.to_dict()\n",
    "\n",
    "for i, row in df.iterrows():\n",
    "    key = (row[\"Procedure\"], row[\"Gender\"])\n",
    "    if key in valid_lookup:\n",
    "        expected_condition = valid_lookup[key][\"Condition\"]\n",
    "        expected_age = valid_lookup[key][\"Age\"]\n",
    "        if row[\"Condition\"] != expected_condition or not (0 <= row[\"Age\"] <= 120):\n",
    "            df.at[i, \"Condition\"] = expected_condition\n",
    "            df.at[i, \"Age\"] = expected_age\n",
    "\n",
    "# Save the cleaned dataset\n",
    "df.to_csv(\"final_cleaned_data.csv\", index=False)"
   ]
  },
  {
   "cell_type": "code",
   "execution_count": 23,
   "metadata": {},
   "outputs": [
    {
     "name": "stdout",
     "output_type": "stream",
     "text": [
      "Gender\n",
      "Male      40\n",
      "Female    38\n",
      "Name: count, dtype: int64\n"
     ]
    }
   ],
   "source": [
    "print(df[\"Gender\"].value_counts())"
   ]
  }
 ],
 "metadata": {
  "kernelspec": {
   "display_name": "base",
   "language": "python",
   "name": "python3"
  },
  "language_info": {
   "codemirror_mode": {
    "name": "ipython",
    "version": 3
   },
   "file_extension": ".py",
   "mimetype": "text/x-python",
   "name": "python",
   "nbconvert_exporter": "python",
   "pygments_lexer": "ipython3",
   "version": "3.12.7"
  }
 },
 "nbformat": 4,
 "nbformat_minor": 4
}
